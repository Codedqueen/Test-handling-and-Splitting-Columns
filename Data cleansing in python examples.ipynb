{
 "cells": [
  {
   "cell_type": "markdown",
   "id": "6c7e2e0a-346f-4506-86e0-270095bf02d7",
   "metadata": {
    "tags": []
   },
   "source": [
    "# Data cleansing in Python practical example 3"
   ]
  },
  {
   "cell_type": "markdown",
   "id": "e0ee5d81-12d4-4d26-9950-3a0aaf93377e",
   "metadata": {},
   "source": [
    "#### . Working with Text Data\n",
    "#### . Split A Column Into Multiple Columns\n",
    "#### . Joining Two Columns\n",
    "#### . Removing Words,Expression\n",
    "#### . Searching for strings And Expressions\n",
    "#### . Replacing words\n"
   ]
  },
  {
   "cell_type": "code",
   "execution_count": 1,
   "id": "9a23b357-466d-4043-9ff7-9ca9271f1ca4",
   "metadata": {},
   "outputs": [],
   "source": [
    "#load packages\n",
    "import numpy as np\n",
    "import pandas as pd"
   ]
  },
  {
   "cell_type": "code",
   "execution_count": 4,
   "id": "af49d281-8aa1-43b6-b2a9-175c1229a6cf",
   "metadata": {},
   "outputs": [],
   "source": [
    "# load dataset\n",
    "df = pd.read_csv(\"C:\\\\Users\\\\user\\\\Desktop\\\\python files\\\\dataset (3).csv\")"
   ]
  },
  {
   "cell_type": "code",
   "execution_count": 5,
   "id": "b45b069f-84c5-478b-b845-8b81aa7e710a",
   "metadata": {},
   "outputs": [
    {
     "data": {
      "text/html": [
       "<div>\n",
       "<style scoped>\n",
       "    .dataframe tbody tr th:only-of-type {\n",
       "        vertical-align: middle;\n",
       "    }\n",
       "\n",
       "    .dataframe tbody tr th {\n",
       "        vertical-align: top;\n",
       "    }\n",
       "\n",
       "    .dataframe thead th {\n",
       "        text-align: right;\n",
       "    }\n",
       "</style>\n",
       "<table border=\"1\" class=\"dataframe\">\n",
       "  <thead>\n",
       "    <tr style=\"text-align: right;\">\n",
       "      <th></th>\n",
       "      <th>id</th>\n",
       "      <th>Full Name</th>\n",
       "      <th>Date of Birth</th>\n",
       "      <th>email</th>\n",
       "      <th>gender</th>\n",
       "      <th>Job</th>\n",
       "      <th>Company</th>\n",
       "      <th>Country</th>\n",
       "      <th>Salary</th>\n",
       "      <th>Phone</th>\n",
       "      <th>Quote</th>\n",
       "      <th>Income</th>\n",
       "      <th>Income.1</th>\n",
       "    </tr>\n",
       "  </thead>\n",
       "  <tbody>\n",
       "    <tr>\n",
       "      <th>0</th>\n",
       "      <td>1</td>\n",
       "      <td>Salim Pound</td>\n",
       "      <td>2/12/2018</td>\n",
       "      <td>spound0@spotify.com</td>\n",
       "      <td>Male</td>\n",
       "      <td>Editor</td>\n",
       "      <td>Gigashots</td>\n",
       "      <td>Israel</td>\n",
       "      <td>19QtDp5HkyuZZqwwqzYPSSLuA7MXFCwfKL</td>\n",
       "      <td>610-741-3882</td>\n",
       "      <td>Compatible discrete leverage</td>\n",
       "      <td>46476.638080</td>\n",
       "      <td>$46476.6380809961</td>\n",
       "    </tr>\n",
       "    <tr>\n",
       "      <th>1</th>\n",
       "      <td>2</td>\n",
       "      <td>Madelene Lutas</td>\n",
       "      <td>9/20/2018</td>\n",
       "      <td>mlutas1@si.edu</td>\n",
       "      <td>Female</td>\n",
       "      <td>VP Marketing</td>\n",
       "      <td>Wikivu</td>\n",
       "      <td>Mongolia</td>\n",
       "      <td>17ADLE8HiTj7m1tTbzboLDn7eiZ4TjetzZ</td>\n",
       "      <td>221-725-8860</td>\n",
       "      <td>Grass-roots real-time algorithm</td>\n",
       "      <td>54174.687950</td>\n",
       "      <td>$54174.6879482406</td>\n",
       "    </tr>\n",
       "    <tr>\n",
       "      <th>2</th>\n",
       "      <td>3</td>\n",
       "      <td>Dolli Swanbourne</td>\n",
       "      <td>11/18/2018</td>\n",
       "      <td>dswanbourne2@istockphoto.com</td>\n",
       "      <td>Female</td>\n",
       "      <td>Associate Professor</td>\n",
       "      <td>Dabfeed</td>\n",
       "      <td>Vietnam</td>\n",
       "      <td>16ThVxH72YAXWiEBeBZB1WYtXcfJMwUtoB</td>\n",
       "      <td>303-720-8280</td>\n",
       "      <td>Innovative system-worthy definition</td>\n",
       "      <td>5449.873348</td>\n",
       "      <td>$5449.87334818567</td>\n",
       "    </tr>\n",
       "    <tr>\n",
       "      <th>3</th>\n",
       "      <td>4</td>\n",
       "      <td>Graeme Croisier</td>\n",
       "      <td>9/29/2018</td>\n",
       "      <td>gcroisier3@parallels.com</td>\n",
       "      <td>Male</td>\n",
       "      <td>Mechanical Systems Engineer</td>\n",
       "      <td>Trudoo</td>\n",
       "      <td>Bosnia and Herzegovina</td>\n",
       "      <td>1JLUVwmjHvxgh53C7Afie3pWbjrYxV9Fnx</td>\n",
       "      <td>673-794-9917</td>\n",
       "      <td>Customer-focused didactic extranet</td>\n",
       "      <td>46784.630880</td>\n",
       "      <td>$46784.6308786279</td>\n",
       "    </tr>\n",
       "    <tr>\n",
       "      <th>4</th>\n",
       "      <td>5</td>\n",
       "      <td>Jillana Physic</td>\n",
       "      <td>4/19/2018</td>\n",
       "      <td>jphysic4@yellowbook.com</td>\n",
       "      <td>Female</td>\n",
       "      <td>Account Executive</td>\n",
       "      <td>Buzzshare</td>\n",
       "      <td>China</td>\n",
       "      <td>1DaEUNoAWL68pnvThSM5eBYgQMTv9mKyFG</td>\n",
       "      <td>709-146-6263</td>\n",
       "      <td>Progressive dynamic model</td>\n",
       "      <td>57486.495560</td>\n",
       "      <td>$57486.4955595568</td>\n",
       "    </tr>\n",
       "  </tbody>\n",
       "</table>\n",
       "</div>"
      ],
      "text/plain": [
       "   id         Full Name Date of Birth                         email  gender  \\\n",
       "0   1       Salim Pound     2/12/2018           spound0@spotify.com    Male   \n",
       "1   2    Madelene Lutas     9/20/2018                mlutas1@si.edu  Female   \n",
       "2   3  Dolli Swanbourne    11/18/2018  dswanbourne2@istockphoto.com  Female   \n",
       "3   4   Graeme Croisier     9/29/2018      gcroisier3@parallels.com    Male   \n",
       "4   5    Jillana Physic     4/19/2018       jphysic4@yellowbook.com  Female   \n",
       "\n",
       "                           Job    Company                 Country  \\\n",
       "0                       Editor  Gigashots                  Israel   \n",
       "1                 VP Marketing     Wikivu                Mongolia   \n",
       "2          Associate Professor    Dabfeed                 Vietnam   \n",
       "3  Mechanical Systems Engineer     Trudoo  Bosnia and Herzegovina   \n",
       "4            Account Executive  Buzzshare                   China   \n",
       "\n",
       "                               Salary         Phone  \\\n",
       "0  19QtDp5HkyuZZqwwqzYPSSLuA7MXFCwfKL  610-741-3882   \n",
       "1  17ADLE8HiTj7m1tTbzboLDn7eiZ4TjetzZ  221-725-8860   \n",
       "2  16ThVxH72YAXWiEBeBZB1WYtXcfJMwUtoB  303-720-8280   \n",
       "3  1JLUVwmjHvxgh53C7Afie3pWbjrYxV9Fnx  673-794-9917   \n",
       "4  1DaEUNoAWL68pnvThSM5eBYgQMTv9mKyFG  709-146-6263   \n",
       "\n",
       "                                 Quote        Income           Income.1  \n",
       "0         Compatible discrete leverage  46476.638080  $46476.6380809961  \n",
       "1      Grass-roots real-time algorithm  54174.687950  $54174.6879482406  \n",
       "2  Innovative system-worthy definition   5449.873348  $5449.87334818567  \n",
       "3   Customer-focused didactic extranet  46784.630880  $46784.6308786279  \n",
       "4            Progressive dynamic model  57486.495560  $57486.4955595568  "
      ]
     },
     "execution_count": 5,
     "metadata": {},
     "output_type": "execute_result"
    }
   ],
   "source": [
    "df.head()"
   ]
  },
  {
   "cell_type": "code",
   "execution_count": 6,
   "id": "2e2a55f0-cdee-493b-9bc5-71b8d535b8f6",
   "metadata": {},
   "outputs": [
    {
     "data": {
      "text/plain": [
       "Index(['id', 'Full Name', 'Date of Birth', 'email', 'gender', 'Job', 'Company',\n",
       "       'Country', 'Salary', 'Phone', 'Quote', 'Income', 'Income.1'],\n",
       "      dtype='object')"
      ]
     },
     "execution_count": 6,
     "metadata": {},
     "output_type": "execute_result"
    }
   ],
   "source": [
    "df.columns"
   ]
  },
  {
   "cell_type": "code",
   "execution_count": 7,
   "id": "128f537f-450c-4def-ad81-277348202e7b",
   "metadata": {},
   "outputs": [
    {
     "data": {
      "text/plain": [
       "Index(['id', 'full name', 'date of birth', 'email', 'gender', 'job', 'company',\n",
       "       'country', 'salary', 'phone', 'quote', 'income', 'income.1'],\n",
       "      dtype='object')"
      ]
     },
     "execution_count": 7,
     "metadata": {},
     "output_type": "execute_result"
    }
   ],
   "source": [
    "df.columns.str.lower()"
   ]
  },
  {
   "cell_type": "code",
   "execution_count": 8,
   "id": "aefbfac6-c944-44a5-b5a3-2eb3dc5f3a92",
   "metadata": {},
   "outputs": [],
   "source": [
    "df.columns = df.columns.str.upper()"
   ]
  },
  {
   "cell_type": "code",
   "execution_count": 12,
   "id": "23a7f581-7afc-45c5-ace1-09151290187b",
   "metadata": {},
   "outputs": [
    {
     "data": {
      "text/plain": [
       "Index(['id', 'full name', 'date of birth', 'email', 'gender', 'job', 'company',\n",
       "       'country', 'salary', 'phone', 'quote', 'income', 'income.1'],\n",
       "      dtype='object')"
      ]
     },
     "execution_count": 12,
     "metadata": {},
     "output_type": "execute_result"
    }
   ],
   "source": [
    "df.columns"
   ]
  },
  {
   "cell_type": "markdown",
   "id": "f370ae20-3703-44f0-8d56-9deb768bfe3a",
   "metadata": {},
   "source": [
    "##### Renaming"
   ]
  },
  {
   "cell_type": "code",
   "execution_count": 14,
   "id": "af9611c5-8a7d-42e8-b348-3e9988c6866b",
   "metadata": {},
   "outputs": [
    {
     "data": {
      "text/html": [
       "<div>\n",
       "<style scoped>\n",
       "    .dataframe tbody tr th:only-of-type {\n",
       "        vertical-align: middle;\n",
       "    }\n",
       "\n",
       "    .dataframe tbody tr th {\n",
       "        vertical-align: top;\n",
       "    }\n",
       "\n",
       "    .dataframe thead th {\n",
       "        text-align: right;\n",
       "    }\n",
       "</style>\n",
       "<table border=\"1\" class=\"dataframe\">\n",
       "  <thead>\n",
       "    <tr style=\"text-align: right;\">\n",
       "      <th></th>\n",
       "      <th>id</th>\n",
       "      <th>full name</th>\n",
       "      <th>date_of_birth</th>\n",
       "      <th>email</th>\n",
       "      <th>gender</th>\n",
       "      <th>job</th>\n",
       "      <th>company</th>\n",
       "      <th>country</th>\n",
       "      <th>salary</th>\n",
       "      <th>phone</th>\n",
       "      <th>quote</th>\n",
       "      <th>income</th>\n",
       "      <th>income.1</th>\n",
       "    </tr>\n",
       "  </thead>\n",
       "  <tbody>\n",
       "    <tr>\n",
       "      <th>0</th>\n",
       "      <td>1</td>\n",
       "      <td>Salim Pound</td>\n",
       "      <td>2/12/2018</td>\n",
       "      <td>spound0@spotify.com</td>\n",
       "      <td>Male</td>\n",
       "      <td>Editor</td>\n",
       "      <td>Gigashots</td>\n",
       "      <td>Israel</td>\n",
       "      <td>19QtDp5HkyuZZqwwqzYPSSLuA7MXFCwfKL</td>\n",
       "      <td>610-741-3882</td>\n",
       "      <td>Compatible discrete leverage</td>\n",
       "      <td>46476.638080</td>\n",
       "      <td>$46476.6380809961</td>\n",
       "    </tr>\n",
       "    <tr>\n",
       "      <th>1</th>\n",
       "      <td>2</td>\n",
       "      <td>Madelene Lutas</td>\n",
       "      <td>9/20/2018</td>\n",
       "      <td>mlutas1@si.edu</td>\n",
       "      <td>Female</td>\n",
       "      <td>VP Marketing</td>\n",
       "      <td>Wikivu</td>\n",
       "      <td>Mongolia</td>\n",
       "      <td>17ADLE8HiTj7m1tTbzboLDn7eiZ4TjetzZ</td>\n",
       "      <td>221-725-8860</td>\n",
       "      <td>Grass-roots real-time algorithm</td>\n",
       "      <td>54174.687950</td>\n",
       "      <td>$54174.6879482406</td>\n",
       "    </tr>\n",
       "    <tr>\n",
       "      <th>2</th>\n",
       "      <td>3</td>\n",
       "      <td>Dolli Swanbourne</td>\n",
       "      <td>11/18/2018</td>\n",
       "      <td>dswanbourne2@istockphoto.com</td>\n",
       "      <td>Female</td>\n",
       "      <td>Associate Professor</td>\n",
       "      <td>Dabfeed</td>\n",
       "      <td>Vietnam</td>\n",
       "      <td>16ThVxH72YAXWiEBeBZB1WYtXcfJMwUtoB</td>\n",
       "      <td>303-720-8280</td>\n",
       "      <td>Innovative system-worthy definition</td>\n",
       "      <td>5449.873348</td>\n",
       "      <td>$5449.87334818567</td>\n",
       "    </tr>\n",
       "    <tr>\n",
       "      <th>3</th>\n",
       "      <td>4</td>\n",
       "      <td>Graeme Croisier</td>\n",
       "      <td>9/29/2018</td>\n",
       "      <td>gcroisier3@parallels.com</td>\n",
       "      <td>Male</td>\n",
       "      <td>Mechanical Systems Engineer</td>\n",
       "      <td>Trudoo</td>\n",
       "      <td>Bosnia and Herzegovina</td>\n",
       "      <td>1JLUVwmjHvxgh53C7Afie3pWbjrYxV9Fnx</td>\n",
       "      <td>673-794-9917</td>\n",
       "      <td>Customer-focused didactic extranet</td>\n",
       "      <td>46784.630880</td>\n",
       "      <td>$46784.6308786279</td>\n",
       "    </tr>\n",
       "    <tr>\n",
       "      <th>4</th>\n",
       "      <td>5</td>\n",
       "      <td>Jillana Physic</td>\n",
       "      <td>4/19/2018</td>\n",
       "      <td>jphysic4@yellowbook.com</td>\n",
       "      <td>Female</td>\n",
       "      <td>Account Executive</td>\n",
       "      <td>Buzzshare</td>\n",
       "      <td>China</td>\n",
       "      <td>1DaEUNoAWL68pnvThSM5eBYgQMTv9mKyFG</td>\n",
       "      <td>709-146-6263</td>\n",
       "      <td>Progressive dynamic model</td>\n",
       "      <td>57486.495560</td>\n",
       "      <td>$57486.4955595568</td>\n",
       "    </tr>\n",
       "    <tr>\n",
       "      <th>...</th>\n",
       "      <td>...</td>\n",
       "      <td>...</td>\n",
       "      <td>...</td>\n",
       "      <td>...</td>\n",
       "      <td>...</td>\n",
       "      <td>...</td>\n",
       "      <td>...</td>\n",
       "      <td>...</td>\n",
       "      <td>...</td>\n",
       "      <td>...</td>\n",
       "      <td>...</td>\n",
       "      <td>...</td>\n",
       "      <td>...</td>\n",
       "    </tr>\n",
       "    <tr>\n",
       "      <th>995</th>\n",
       "      <td>996</td>\n",
       "      <td>Willie Gravestone</td>\n",
       "      <td>1/17/2018</td>\n",
       "      <td>wgravestonern@typepad.com</td>\n",
       "      <td>Female</td>\n",
       "      <td>Junior Executive</td>\n",
       "      <td>Cogilith</td>\n",
       "      <td>China</td>\n",
       "      <td>1NhweMA6xVPvFfYyQfRvusazTkMvuP8kap</td>\n",
       "      <td>717-137-5667</td>\n",
       "      <td>Automated content-based superstructure</td>\n",
       "      <td>33868.404190</td>\n",
       "      <td>$33868.4041871395</td>\n",
       "    </tr>\n",
       "    <tr>\n",
       "      <th>996</th>\n",
       "      <td>997</td>\n",
       "      <td>Samara McRitchie</td>\n",
       "      <td>12/10/2018</td>\n",
       "      <td>smcritchiero@wikispaces.com</td>\n",
       "      <td>Female</td>\n",
       "      <td>Media Manager II</td>\n",
       "      <td>Edgewire</td>\n",
       "      <td>Philippines</td>\n",
       "      <td>1t9C9e457Z6efZCZ46Ywm84Xgw79WEBW9</td>\n",
       "      <td>583-849-4461</td>\n",
       "      <td>Proactive content-based throughput</td>\n",
       "      <td>46290.780360</td>\n",
       "      <td>$46290.7803582873</td>\n",
       "    </tr>\n",
       "    <tr>\n",
       "      <th>997</th>\n",
       "      <td>998</td>\n",
       "      <td>Joceline Josefowicz</td>\n",
       "      <td>10/18/2018</td>\n",
       "      <td>jjosefowiczrp@statcounter.com</td>\n",
       "      <td>Female</td>\n",
       "      <td>Design Engineer</td>\n",
       "      <td>Mynte</td>\n",
       "      <td>Puerto Rico</td>\n",
       "      <td>13pFvvCyTz5AFNhk7ugp9G6aYA89wVJFns</td>\n",
       "      <td>934-388-0702</td>\n",
       "      <td>Phased transitional monitoring</td>\n",
       "      <td>24202.032530</td>\n",
       "      <td>$24202.0325327311</td>\n",
       "    </tr>\n",
       "    <tr>\n",
       "      <th>998</th>\n",
       "      <td>999</td>\n",
       "      <td>Andrei Lestor</td>\n",
       "      <td>1/16/2018</td>\n",
       "      <td>alestorrq@storify.com</td>\n",
       "      <td>Female</td>\n",
       "      <td>Senior Editor</td>\n",
       "      <td>Reallinks</td>\n",
       "      <td>China</td>\n",
       "      <td>1CTz1ejJhKvKUvV7tMgQ97wCguJpRAVZan</td>\n",
       "      <td>706-201-1239</td>\n",
       "      <td>Organic dynamic strategy</td>\n",
       "      <td>54316.293830</td>\n",
       "      <td>$54316.2938322092</td>\n",
       "    </tr>\n",
       "    <tr>\n",
       "      <th>999</th>\n",
       "      <td>1000</td>\n",
       "      <td>Nikkie Langtry</td>\n",
       "      <td>10/30/2018</td>\n",
       "      <td>nlangtryrr@sciencedaily.com</td>\n",
       "      <td>Female</td>\n",
       "      <td>Financial Advisor</td>\n",
       "      <td>Linklinks</td>\n",
       "      <td>Armenia</td>\n",
       "      <td>1JFRCVhkbkR9TFrS2RKezc7HKoteeUHzR</td>\n",
       "      <td>612-915-7537</td>\n",
       "      <td>Managed solution-oriented implementation</td>\n",
       "      <td>56477.000000</td>\n",
       "      <td>$56477</td>\n",
       "    </tr>\n",
       "  </tbody>\n",
       "</table>\n",
       "<p>1000 rows × 13 columns</p>\n",
       "</div>"
      ],
      "text/plain": [
       "       id            full name date_of_birth                          email  \\\n",
       "0       1          Salim Pound     2/12/2018            spound0@spotify.com   \n",
       "1       2       Madelene Lutas     9/20/2018                 mlutas1@si.edu   \n",
       "2       3     Dolli Swanbourne    11/18/2018   dswanbourne2@istockphoto.com   \n",
       "3       4      Graeme Croisier     9/29/2018       gcroisier3@parallels.com   \n",
       "4       5       Jillana Physic     4/19/2018        jphysic4@yellowbook.com   \n",
       "..    ...                  ...           ...                            ...   \n",
       "995   996    Willie Gravestone     1/17/2018      wgravestonern@typepad.com   \n",
       "996   997     Samara McRitchie    12/10/2018    smcritchiero@wikispaces.com   \n",
       "997   998  Joceline Josefowicz    10/18/2018  jjosefowiczrp@statcounter.com   \n",
       "998   999        Andrei Lestor     1/16/2018          alestorrq@storify.com   \n",
       "999  1000       Nikkie Langtry    10/30/2018    nlangtryrr@sciencedaily.com   \n",
       "\n",
       "     gender                          job    company                 country  \\\n",
       "0      Male                       Editor  Gigashots                  Israel   \n",
       "1    Female                 VP Marketing     Wikivu                Mongolia   \n",
       "2    Female          Associate Professor    Dabfeed                 Vietnam   \n",
       "3      Male  Mechanical Systems Engineer     Trudoo  Bosnia and Herzegovina   \n",
       "4    Female            Account Executive  Buzzshare                   China   \n",
       "..      ...                          ...        ...                     ...   \n",
       "995  Female             Junior Executive   Cogilith                   China   \n",
       "996  Female             Media Manager II   Edgewire             Philippines   \n",
       "997  Female              Design Engineer      Mynte             Puerto Rico   \n",
       "998  Female                Senior Editor  Reallinks                   China   \n",
       "999  Female            Financial Advisor  Linklinks                 Armenia   \n",
       "\n",
       "                                 salary         phone  \\\n",
       "0    19QtDp5HkyuZZqwwqzYPSSLuA7MXFCwfKL  610-741-3882   \n",
       "1    17ADLE8HiTj7m1tTbzboLDn7eiZ4TjetzZ  221-725-8860   \n",
       "2    16ThVxH72YAXWiEBeBZB1WYtXcfJMwUtoB  303-720-8280   \n",
       "3    1JLUVwmjHvxgh53C7Afie3pWbjrYxV9Fnx  673-794-9917   \n",
       "4    1DaEUNoAWL68pnvThSM5eBYgQMTv9mKyFG  709-146-6263   \n",
       "..                                  ...           ...   \n",
       "995  1NhweMA6xVPvFfYyQfRvusazTkMvuP8kap  717-137-5667   \n",
       "996   1t9C9e457Z6efZCZ46Ywm84Xgw79WEBW9  583-849-4461   \n",
       "997  13pFvvCyTz5AFNhk7ugp9G6aYA89wVJFns  934-388-0702   \n",
       "998  1CTz1ejJhKvKUvV7tMgQ97wCguJpRAVZan  706-201-1239   \n",
       "999   1JFRCVhkbkR9TFrS2RKezc7HKoteeUHzR  612-915-7537   \n",
       "\n",
       "                                        quote        income           income.1  \n",
       "0                Compatible discrete leverage  46476.638080  $46476.6380809961  \n",
       "1             Grass-roots real-time algorithm  54174.687950  $54174.6879482406  \n",
       "2         Innovative system-worthy definition   5449.873348  $5449.87334818567  \n",
       "3          Customer-focused didactic extranet  46784.630880  $46784.6308786279  \n",
       "4                   Progressive dynamic model  57486.495560  $57486.4955595568  \n",
       "..                                        ...           ...                ...  \n",
       "995    Automated content-based superstructure  33868.404190  $33868.4041871395  \n",
       "996        Proactive content-based throughput  46290.780360  $46290.7803582873  \n",
       "997            Phased transitional monitoring  24202.032530  $24202.0325327311  \n",
       "998                  Organic dynamic strategy  54316.293830  $54316.2938322092  \n",
       "999  Managed solution-oriented implementation  56477.000000             $56477  \n",
       "\n",
       "[1000 rows x 13 columns]"
      ]
     },
     "execution_count": 14,
     "metadata": {},
     "output_type": "execute_result"
    }
   ],
   "source": [
    "df.rename(columns={'fullname': 'full_name','date of birth': 'date_of_birth'})"
   ]
  },
  {
   "cell_type": "markdown",
   "id": "746a8351-bd39-4e97-888a-027c3b15d1f1",
   "metadata": {},
   "source": [
    "##### if you go back to check you will see that the column did not change as seen below with 'df.column"
   ]
  },
  {
   "cell_type": "code",
   "execution_count": 25,
   "id": "c1463178-b691-4bdd-ad24-2f54ce27ebe2",
   "metadata": {},
   "outputs": [
    {
     "data": {
      "text/plain": [
       "Index(['id', 'full name', 'date_of_birth', 'email', 'gender', 'job', 'company',\n",
       "       'country', 'salary', 'phone', 'quote', 'income', 'income.1'],\n",
       "      dtype='object')"
      ]
     },
     "execution_count": 25,
     "metadata": {},
     "output_type": "execute_result"
    }
   ],
   "source": [
    "df.columns"
   ]
  },
  {
   "cell_type": "markdown",
   "id": "72554e19-2328-4241-a3c0-12153178162b",
   "metadata": {},
   "source": [
    "##### Hence, we will need to use the function (inplace=True) to corect it"
   ]
  },
  {
   "cell_type": "code",
   "execution_count": 32,
   "id": "ccc1183d-f649-4154-b2a3-39f9e51bc6fd",
   "metadata": {},
   "outputs": [],
   "source": [
    "df.rename(columns={'full name': 'full_name','date of birth': 'date_of_birth'},inplace=True)"
   ]
  },
  {
   "cell_type": "code",
   "execution_count": 33,
   "id": "6993eb9c-ab30-4c9b-9f4b-a5f64117b986",
   "metadata": {},
   "outputs": [
    {
     "data": {
      "text/plain": [
       "Index(['id', 'full_name', 'date_of_birth', 'email', 'gender', 'job', 'company',\n",
       "       'country', 'salary', 'phone', 'quote', 'income', 'income.1'],\n",
       "      dtype='object')"
      ]
     },
     "execution_count": 33,
     "metadata": {},
     "output_type": "execute_result"
    }
   ],
   "source": [
    "df.columns"
   ]
  },
  {
   "cell_type": "markdown",
   "id": "aac0a85f-5c1d-4945-857a-fc0a4bc70ff7",
   "metadata": {},
   "source": [
    "### Splitting columns into multiples:"
   ]
  },
  {
   "cell_type": "code",
   "execution_count": 34,
   "id": "1c326715-736b-418c-95ff-95008b4e111f",
   "metadata": {},
   "outputs": [
    {
     "data": {
      "text/plain": [
       "0              Salim Pound\n",
       "1           Madelene Lutas\n",
       "2         Dolli Swanbourne\n",
       "3          Graeme Croisier\n",
       "4           Jillana Physic\n",
       "              ...         \n",
       "995      Willie Gravestone\n",
       "996       Samara McRitchie\n",
       "997    Joceline Josefowicz\n",
       "998          Andrei Lestor\n",
       "999         Nikkie Langtry\n",
       "Name: full_name, Length: 1000, dtype: object"
      ]
     },
     "execution_count": 34,
     "metadata": {},
     "output_type": "execute_result"
    }
   ],
   "source": [
    "# method 1\n",
    "df.full_name"
   ]
  },
  {
   "cell_type": "code",
   "execution_count": 35,
   "id": "471bb3a6-9ea7-4e35-b757-859ba5f1214f",
   "metadata": {},
   "outputs": [
    {
     "data": {
      "text/plain": [
       "0                  [, S, a, l, i, m,  , P, o, u, n, d, ]\n",
       "1         [, M, a, d, e, l, e, n, e,  , L, u, t, a, s, ]\n",
       "2      [, D, o, l, l, i,  , S, w, a, n, b, o, u, r, n...\n",
       "3      [, G, r, a, e, m, e,  , C, r, o, i, s, i, e, r, ]\n",
       "4         [, J, i, l, l, a, n, a,  , P, h, y, s, i, c, ]\n",
       "                             ...                        \n",
       "995    [, W, i, l, l, i, e,  , G, r, a, v, e, s, t, o...\n",
       "996    [, S, a, m, a, r, a,  , M, c, R, i, t, c, h, i...\n",
       "997    [, J, o, c, e, l, i, n, e,  , J, o, s, e, f, o...\n",
       "998          [, A, n, d, r, e, i,  , L, e, s, t, o, r, ]\n",
       "999       [, N, i, k, k, i, e,  , L, a, n, g, t, r, y, ]\n",
       "Name: full_name, Length: 1000, dtype: object"
      ]
     },
     "execution_count": 35,
     "metadata": {},
     "output_type": "execute_result"
    }
   ],
   "source": [
    "df.full_name.str.split(\"\")"
   ]
  },
  {
   "cell_type": "code",
   "execution_count": null,
   "id": "5a4229c0-c15b-4c14-a8e3-97c6e39a408b",
   "metadata": {},
   "outputs": [],
   "source": []
  }
 ],
 "metadata": {
  "kernelspec": {
   "display_name": "Python 3 (ipykernel)",
   "language": "python",
   "name": "python3"
  },
  "language_info": {
   "codemirror_mode": {
    "name": "ipython",
    "version": 3
   },
   "file_extension": ".py",
   "mimetype": "text/x-python",
   "name": "python",
   "nbconvert_exporter": "python",
   "pygments_lexer": "ipython3",
   "version": "3.9.7"
  }
 },
 "nbformat": 4,
 "nbformat_minor": 5
}
